{
 "cells": [
  {
   "cell_type": "markdown",
   "metadata": {},
   "source": [
    "## Imports\n"
   ]
  },
  {
   "cell_type": "code",
   "execution_count": 1,
   "metadata": {},
   "outputs": [],
   "source": [
    "from sklearn.linear_model import LinearRegression\n",
    "from sklearn.tree import DecisionTreeRegressor\n",
    "from sklearn.ensemble import RandomForestRegressor\n",
    "from sklearn.ensemble import RandomForestClassifier\n",
    "from xgboost import XGBRegressor\n",
    "from xgboost import XGBClassifier\n",
    "from sklearn.pipeline import Pipeline\n",
    "from sklearn.linear_model import ElasticNet\n",
    "from sklearn.model_selection import train_test_split\n",
    "from sklearn.metrics import mean_squared_error\n",
    "from sklearn import metrics\n",
    "\n",
    "# import inspect\n",
    "from os import path\n",
    "\n",
    "import matplotlib.pyplot as plt\n",
    "import pandas as pd\n",
    "import seaborn as sns\n",
    "import struct\n",
    "import time\n",
    "\n",
    "from sklearn.model_selection import KFold, GridSearchCV\n",
    "from sklearn.preprocessing import StandardScaler, LabelEncoder, Binarizer\n",
    "\n",
    "\n",
    "import pandas as pd\n",
    "import numpy as np\n",
    "import pickle"
   ]
  },
  {
   "cell_type": "markdown",
   "metadata": {},
   "source": [
    "##  Functions"
   ]
  },
  {
   "cell_type": "code",
   "execution_count": 2,
   "metadata": {},
   "outputs": [],
   "source": [
    "# function that calculates the r squared error\n",
    "def r_squared_error(y_real, y_est):\n",
    "    residuals = y_real - y_est\n",
    "    ss_res = np.sum(residuals**2)\n",
    "    ss_tot = np.sum((y_real-np.mean(y_real))**2)\n",
    "    return (1 - (ss_res / ss_tot))\n",
    "\n",
    "# function that plot a boxplot for each column in a dataframe (the Y column needs to be the last in the frame)\n",
    "def boxplot(data,y_value):\n",
    "\n",
    "    categorical = data.columns.tolist()\n",
    "    categorical = categorical[:-1]\n",
    "\n",
    "    fig, ax = plt.subplots(len(categorical), 1, figsize=(15, 100))\n",
    "\n",
    "    i=0\n",
    "\n",
    "    for var, subplot in zip(categorical, ax.flatten()):\n",
    "        sns.boxplot(x=var, y=y_value, data=data, ax=subplot, linewidth=2.5)\n",
    "        ax[i].tick_params(axis='x',labelsize=15,labelrotation=30)\n",
    "        ax[i].tick_params(axis='y',labelsize=15)\n",
    "        ax[i].set_title(f'{y_value} vs {var}',size=18)\n",
    "        ax[i].set_xlabel('')\n",
    "        ax[i].set_ylabel('')\n",
    "        i+=1\n",
    "\n",
    "    return plt.show()\n",
    "\n",
    "# function that devolves a dataframe that includes r squared and MSE\n",
    "def model_df(model,y,y_pred):\n",
    "\n",
    "    result = pd.DataFrame({\n",
    "                             'Model'     :[model],\n",
    "                             'R Squared' :[round(r_squared_error(y,y_pred),3)],\n",
    "                             'MSE'       :[round(np.sqrt(mean_squared_error(y,y_pred)),3)],\n",
    "                              })\n",
    "    return result\n",
    "\n",
    "# funtion that creates and uses a label enconder wiht a particular set of data\n",
    "# parameters: objective(the values that is needed to convert) / process(\"transform\" to encode and \"inverse\" to desencode)\n",
    "def label_encoder(objective,process):\n",
    "\n",
    "    filename = 'LabelEncoder.sav'\n",
    "    \n",
    "    if path.exists(filename)==0:\n",
    "    \n",
    "        lbl_enc = LabelEncoder()\n",
    "        \n",
    "        lbl_enc.fit(objective)\n",
    "    \n",
    "        pickle.dump(lbl_enc, open(filename, 'wb'))\n",
    "        \n",
    "        result = 'the model has been trained and stored'\n",
    "        \n",
    "        return result   \n",
    "    \n",
    "    else:\n",
    "        \n",
    "        lbl_enc = pickle.load(open(filename, 'rb'))\n",
    "        \n",
    "        \n",
    "    if process=='transform':\n",
    "        \n",
    "        result = lbl_enc.transform(objective)\n",
    "        \n",
    "    elif process=='inverse':\n",
    "            \n",
    "        result = lbl_enc.inverse_transform(objective)\n",
    "        \n",
    "    else:\n",
    "            \n",
    "        result = 'Put a valid value for process'\n",
    "    \n",
    "    return result\n",
    "\n",
    "# function that devolves a value depending of a range declared in a series\n",
    "def range_imc(target, value):\n",
    "\n",
    "    for v in range(len(value)):\n",
    "\n",
    "            if target < value[v]:\n",
    "\n",
    "                return value.index[v]\n",
    "            \n",
    "                break"
   ]
  },
  {
   "cell_type": "markdown",
   "metadata": {},
   "source": [
    "## Data\n"
   ]
  },
  {
   "cell_type": "code",
   "execution_count": 3,
   "metadata": {},
   "outputs": [
    {
     "data": {
      "text/html": [
       "<div>\n",
       "<style scoped>\n",
       "    .dataframe tbody tr th:only-of-type {\n",
       "        vertical-align: middle;\n",
       "    }\n",
       "\n",
       "    .dataframe tbody tr th {\n",
       "        vertical-align: top;\n",
       "    }\n",
       "\n",
       "    .dataframe thead th {\n",
       "        text-align: right;\n",
       "    }\n",
       "</style>\n",
       "<table border=\"1\" class=\"dataframe\">\n",
       "  <thead>\n",
       "    <tr style=\"text-align: right;\">\n",
       "      <th></th>\n",
       "      <th>Gender</th>\n",
       "      <th>Age</th>\n",
       "      <th>Height</th>\n",
       "      <th>Weight</th>\n",
       "      <th>family_history_with_overweight</th>\n",
       "      <th>FAVC</th>\n",
       "      <th>FCVC</th>\n",
       "      <th>NCP</th>\n",
       "      <th>CAEC</th>\n",
       "      <th>SMOKE</th>\n",
       "      <th>CH2O</th>\n",
       "      <th>SCC</th>\n",
       "      <th>FAF</th>\n",
       "      <th>TUE</th>\n",
       "      <th>CALC</th>\n",
       "      <th>MTRANS</th>\n",
       "      <th>NObeyesdad</th>\n",
       "    </tr>\n",
       "  </thead>\n",
       "  <tbody>\n",
       "    <tr>\n",
       "      <th>0</th>\n",
       "      <td>Female</td>\n",
       "      <td>21.0</td>\n",
       "      <td>1.62</td>\n",
       "      <td>64.0</td>\n",
       "      <td>yes</td>\n",
       "      <td>no</td>\n",
       "      <td>2.0</td>\n",
       "      <td>3.0</td>\n",
       "      <td>Sometimes</td>\n",
       "      <td>no</td>\n",
       "      <td>2.0</td>\n",
       "      <td>no</td>\n",
       "      <td>0.0</td>\n",
       "      <td>1.0</td>\n",
       "      <td>no</td>\n",
       "      <td>Public_Transportation</td>\n",
       "      <td>Normal_Weight</td>\n",
       "    </tr>\n",
       "    <tr>\n",
       "      <th>1</th>\n",
       "      <td>Female</td>\n",
       "      <td>21.0</td>\n",
       "      <td>1.52</td>\n",
       "      <td>56.0</td>\n",
       "      <td>yes</td>\n",
       "      <td>no</td>\n",
       "      <td>3.0</td>\n",
       "      <td>3.0</td>\n",
       "      <td>Sometimes</td>\n",
       "      <td>yes</td>\n",
       "      <td>3.0</td>\n",
       "      <td>yes</td>\n",
       "      <td>3.0</td>\n",
       "      <td>0.0</td>\n",
       "      <td>Sometimes</td>\n",
       "      <td>Public_Transportation</td>\n",
       "      <td>Normal_Weight</td>\n",
       "    </tr>\n",
       "    <tr>\n",
       "      <th>2</th>\n",
       "      <td>Male</td>\n",
       "      <td>23.0</td>\n",
       "      <td>1.80</td>\n",
       "      <td>77.0</td>\n",
       "      <td>yes</td>\n",
       "      <td>no</td>\n",
       "      <td>2.0</td>\n",
       "      <td>3.0</td>\n",
       "      <td>Sometimes</td>\n",
       "      <td>no</td>\n",
       "      <td>2.0</td>\n",
       "      <td>no</td>\n",
       "      <td>2.0</td>\n",
       "      <td>1.0</td>\n",
       "      <td>Frequently</td>\n",
       "      <td>Public_Transportation</td>\n",
       "      <td>Normal_Weight</td>\n",
       "    </tr>\n",
       "    <tr>\n",
       "      <th>3</th>\n",
       "      <td>Male</td>\n",
       "      <td>27.0</td>\n",
       "      <td>1.80</td>\n",
       "      <td>87.0</td>\n",
       "      <td>no</td>\n",
       "      <td>no</td>\n",
       "      <td>3.0</td>\n",
       "      <td>3.0</td>\n",
       "      <td>Sometimes</td>\n",
       "      <td>no</td>\n",
       "      <td>2.0</td>\n",
       "      <td>no</td>\n",
       "      <td>2.0</td>\n",
       "      <td>0.0</td>\n",
       "      <td>Frequently</td>\n",
       "      <td>Walking</td>\n",
       "      <td>Overweight_Level_I</td>\n",
       "    </tr>\n",
       "    <tr>\n",
       "      <th>4</th>\n",
       "      <td>Male</td>\n",
       "      <td>22.0</td>\n",
       "      <td>1.78</td>\n",
       "      <td>89.8</td>\n",
       "      <td>no</td>\n",
       "      <td>no</td>\n",
       "      <td>2.0</td>\n",
       "      <td>1.0</td>\n",
       "      <td>Sometimes</td>\n",
       "      <td>no</td>\n",
       "      <td>2.0</td>\n",
       "      <td>no</td>\n",
       "      <td>0.0</td>\n",
       "      <td>0.0</td>\n",
       "      <td>Sometimes</td>\n",
       "      <td>Public_Transportation</td>\n",
       "      <td>Overweight_Level_II</td>\n",
       "    </tr>\n",
       "  </tbody>\n",
       "</table>\n",
       "</div>"
      ],
      "text/plain": [
       "   Gender   Age  Height  Weight family_history_with_overweight FAVC  FCVC  \\\n",
       "0  Female  21.0    1.62    64.0                            yes   no   2.0   \n",
       "1  Female  21.0    1.52    56.0                            yes   no   3.0   \n",
       "2    Male  23.0    1.80    77.0                            yes   no   2.0   \n",
       "3    Male  27.0    1.80    87.0                             no   no   3.0   \n",
       "4    Male  22.0    1.78    89.8                             no   no   2.0   \n",
       "\n",
       "   NCP       CAEC SMOKE  CH2O  SCC  FAF  TUE        CALC  \\\n",
       "0  3.0  Sometimes    no   2.0   no  0.0  1.0          no   \n",
       "1  3.0  Sometimes   yes   3.0  yes  3.0  0.0   Sometimes   \n",
       "2  3.0  Sometimes    no   2.0   no  2.0  1.0  Frequently   \n",
       "3  3.0  Sometimes    no   2.0   no  2.0  0.0  Frequently   \n",
       "4  1.0  Sometimes    no   2.0   no  0.0  0.0   Sometimes   \n",
       "\n",
       "                  MTRANS           NObeyesdad  \n",
       "0  Public_Transportation        Normal_Weight  \n",
       "1  Public_Transportation        Normal_Weight  \n",
       "2  Public_Transportation        Normal_Weight  \n",
       "3                Walking   Overweight_Level_I  \n",
       "4  Public_Transportation  Overweight_Level_II  "
      ]
     },
     "execution_count": 3,
     "metadata": {},
     "output_type": "execute_result"
    }
   ],
   "source": [
    "# reading the data and storing it into a dataframe\n",
    "data = pd.read_csv('ObesityDataSet_raw_and_data_sinthetic.csv')\n",
    "data.head()"
   ]
  },
  {
   "cell_type": "code",
   "execution_count": 4,
   "metadata": {},
   "outputs": [
    {
     "data": {
      "text/html": [
       "<div>\n",
       "<style scoped>\n",
       "    .dataframe tbody tr th:only-of-type {\n",
       "        vertical-align: middle;\n",
       "    }\n",
       "\n",
       "    .dataframe tbody tr th {\n",
       "        vertical-align: top;\n",
       "    }\n",
       "\n",
       "    .dataframe thead th {\n",
       "        text-align: right;\n",
       "    }\n",
       "</style>\n",
       "<table border=\"1\" class=\"dataframe\">\n",
       "  <thead>\n",
       "    <tr style=\"text-align: right;\">\n",
       "      <th></th>\n",
       "      <th>Age</th>\n",
       "      <th>Height</th>\n",
       "      <th>Weight</th>\n",
       "      <th>FCVC</th>\n",
       "      <th>NCP</th>\n",
       "      <th>CH2O</th>\n",
       "      <th>FAF</th>\n",
       "      <th>TUE</th>\n",
       "    </tr>\n",
       "  </thead>\n",
       "  <tbody>\n",
       "    <tr>\n",
       "      <th>count</th>\n",
       "      <td>2111.000000</td>\n",
       "      <td>2111.000000</td>\n",
       "      <td>2111.000000</td>\n",
       "      <td>2111.000000</td>\n",
       "      <td>2111.000000</td>\n",
       "      <td>2111.000000</td>\n",
       "      <td>2111.000000</td>\n",
       "      <td>2111.000000</td>\n",
       "    </tr>\n",
       "    <tr>\n",
       "      <th>mean</th>\n",
       "      <td>24.312600</td>\n",
       "      <td>1.701677</td>\n",
       "      <td>86.586058</td>\n",
       "      <td>2.419043</td>\n",
       "      <td>2.685628</td>\n",
       "      <td>2.008011</td>\n",
       "      <td>1.010298</td>\n",
       "      <td>0.657866</td>\n",
       "    </tr>\n",
       "    <tr>\n",
       "      <th>std</th>\n",
       "      <td>6.345968</td>\n",
       "      <td>0.093305</td>\n",
       "      <td>26.191172</td>\n",
       "      <td>0.533927</td>\n",
       "      <td>0.778039</td>\n",
       "      <td>0.612953</td>\n",
       "      <td>0.850592</td>\n",
       "      <td>0.608927</td>\n",
       "    </tr>\n",
       "    <tr>\n",
       "      <th>min</th>\n",
       "      <td>14.000000</td>\n",
       "      <td>1.450000</td>\n",
       "      <td>39.000000</td>\n",
       "      <td>1.000000</td>\n",
       "      <td>1.000000</td>\n",
       "      <td>1.000000</td>\n",
       "      <td>0.000000</td>\n",
       "      <td>0.000000</td>\n",
       "    </tr>\n",
       "    <tr>\n",
       "      <th>25%</th>\n",
       "      <td>19.947192</td>\n",
       "      <td>1.630000</td>\n",
       "      <td>65.473343</td>\n",
       "      <td>2.000000</td>\n",
       "      <td>2.658738</td>\n",
       "      <td>1.584812</td>\n",
       "      <td>0.124505</td>\n",
       "      <td>0.000000</td>\n",
       "    </tr>\n",
       "    <tr>\n",
       "      <th>50%</th>\n",
       "      <td>22.777890</td>\n",
       "      <td>1.700499</td>\n",
       "      <td>83.000000</td>\n",
       "      <td>2.385502</td>\n",
       "      <td>3.000000</td>\n",
       "      <td>2.000000</td>\n",
       "      <td>1.000000</td>\n",
       "      <td>0.625350</td>\n",
       "    </tr>\n",
       "    <tr>\n",
       "      <th>75%</th>\n",
       "      <td>26.000000</td>\n",
       "      <td>1.768464</td>\n",
       "      <td>107.430682</td>\n",
       "      <td>3.000000</td>\n",
       "      <td>3.000000</td>\n",
       "      <td>2.477420</td>\n",
       "      <td>1.666678</td>\n",
       "      <td>1.000000</td>\n",
       "    </tr>\n",
       "    <tr>\n",
       "      <th>max</th>\n",
       "      <td>61.000000</td>\n",
       "      <td>1.980000</td>\n",
       "      <td>173.000000</td>\n",
       "      <td>3.000000</td>\n",
       "      <td>4.000000</td>\n",
       "      <td>3.000000</td>\n",
       "      <td>3.000000</td>\n",
       "      <td>2.000000</td>\n",
       "    </tr>\n",
       "  </tbody>\n",
       "</table>\n",
       "</div>"
      ],
      "text/plain": [
       "               Age       Height       Weight         FCVC          NCP  \\\n",
       "count  2111.000000  2111.000000  2111.000000  2111.000000  2111.000000   \n",
       "mean     24.312600     1.701677    86.586058     2.419043     2.685628   \n",
       "std       6.345968     0.093305    26.191172     0.533927     0.778039   \n",
       "min      14.000000     1.450000    39.000000     1.000000     1.000000   \n",
       "25%      19.947192     1.630000    65.473343     2.000000     2.658738   \n",
       "50%      22.777890     1.700499    83.000000     2.385502     3.000000   \n",
       "75%      26.000000     1.768464   107.430682     3.000000     3.000000   \n",
       "max      61.000000     1.980000   173.000000     3.000000     4.000000   \n",
       "\n",
       "              CH2O          FAF          TUE  \n",
       "count  2111.000000  2111.000000  2111.000000  \n",
       "mean      2.008011     1.010298     0.657866  \n",
       "std       0.612953     0.850592     0.608927  \n",
       "min       1.000000     0.000000     0.000000  \n",
       "25%       1.584812     0.124505     0.000000  \n",
       "50%       2.000000     1.000000     0.625350  \n",
       "75%       2.477420     1.666678     1.000000  \n",
       "max       3.000000     3.000000     2.000000  "
      ]
     },
     "execution_count": 4,
     "metadata": {},
     "output_type": "execute_result"
    }
   ],
   "source": [
    "# data general information\n",
    "data.describe()"
   ]
  },
  {
   "cell_type": "markdown",
   "metadata": {},
   "source": [
    "## Data Transformation"
   ]
  },
  {
   "cell_type": "code",
   "execution_count": 5,
   "metadata": {},
   "outputs": [],
   "source": [
    "# calculing the IMC, that will be our target for our regression model\n",
    "data['IMC'] = data['Weight']/data['Height']**2\n",
    "data_regr   = data.drop(columns=['NObeyesdad', 'Weight'])"
   ]
  },
  {
   "cell_type": "code",
   "execution_count": 6,
   "metadata": {},
   "outputs": [
    {
     "data": {
      "text/plain": [
       "array([1, 1, 1, ..., 4, 4, 4])"
      ]
     },
     "execution_count": 6,
     "metadata": {},
     "output_type": "execute_result"
    }
   ],
   "source": [
    "# training the label encoder\n",
    "label_encoder(data['NObeyesdad'],'transform')"
   ]
  },
  {
   "cell_type": "code",
   "execution_count": 7,
   "metadata": {},
   "outputs": [],
   "source": [
    "# changing the dataframe to convert the object variables into dummies\n",
    "data_regr   = pd.concat([data_regr.select_dtypes(exclude=['object']),\n",
    "                         pd.get_dummies(data_regr.select_dtypes(include=['object']))],\n",
    "                         axis=1)\n",
    "\n",
    "# creating the classification dataframe with the dummies variables and the target labeled\n",
    "data_clas   = pd.concat([data_regr.select_dtypes(exclude=['object']).drop(columns=['IMC']),\n",
    "                         pd.DataFrame(label_encoder(data['NObeyesdad'],'transform'), columns=['NObeyesdad'])],\n",
    "                         axis=1)"
   ]
  },
  {
   "cell_type": "code",
   "execution_count": 8,
   "metadata": {},
   "outputs": [
    {
     "data": {
      "text/html": [
       "<div>\n",
       "<style scoped>\n",
       "    .dataframe tbody tr th:only-of-type {\n",
       "        vertical-align: middle;\n",
       "    }\n",
       "\n",
       "    .dataframe tbody tr th {\n",
       "        vertical-align: top;\n",
       "    }\n",
       "\n",
       "    .dataframe thead th {\n",
       "        text-align: right;\n",
       "    }\n",
       "</style>\n",
       "<table border=\"1\" class=\"dataframe\">\n",
       "  <thead>\n",
       "    <tr style=\"text-align: right;\">\n",
       "      <th></th>\n",
       "      <th>Age</th>\n",
       "      <th>Height</th>\n",
       "      <th>FCVC</th>\n",
       "      <th>NCP</th>\n",
       "      <th>CH2O</th>\n",
       "      <th>FAF</th>\n",
       "      <th>TUE</th>\n",
       "      <th>IMC</th>\n",
       "      <th>Gender_Female</th>\n",
       "      <th>Gender_Male</th>\n",
       "      <th>...</th>\n",
       "      <th>SCC_yes</th>\n",
       "      <th>CALC_Always</th>\n",
       "      <th>CALC_Frequently</th>\n",
       "      <th>CALC_Sometimes</th>\n",
       "      <th>CALC_no</th>\n",
       "      <th>MTRANS_Automobile</th>\n",
       "      <th>MTRANS_Bike</th>\n",
       "      <th>MTRANS_Motorbike</th>\n",
       "      <th>MTRANS_Public_Transportation</th>\n",
       "      <th>MTRANS_Walking</th>\n",
       "    </tr>\n",
       "  </thead>\n",
       "  <tbody>\n",
       "    <tr>\n",
       "      <th>0</th>\n",
       "      <td>21.0</td>\n",
       "      <td>1.62</td>\n",
       "      <td>2.0</td>\n",
       "      <td>3.0</td>\n",
       "      <td>2.0</td>\n",
       "      <td>0.0</td>\n",
       "      <td>1.0</td>\n",
       "      <td>24.386526</td>\n",
       "      <td>1</td>\n",
       "      <td>0</td>\n",
       "      <td>...</td>\n",
       "      <td>0</td>\n",
       "      <td>0</td>\n",
       "      <td>0</td>\n",
       "      <td>0</td>\n",
       "      <td>1</td>\n",
       "      <td>0</td>\n",
       "      <td>0</td>\n",
       "      <td>0</td>\n",
       "      <td>1</td>\n",
       "      <td>0</td>\n",
       "    </tr>\n",
       "    <tr>\n",
       "      <th>1</th>\n",
       "      <td>21.0</td>\n",
       "      <td>1.52</td>\n",
       "      <td>3.0</td>\n",
       "      <td>3.0</td>\n",
       "      <td>3.0</td>\n",
       "      <td>3.0</td>\n",
       "      <td>0.0</td>\n",
       "      <td>24.238227</td>\n",
       "      <td>1</td>\n",
       "      <td>0</td>\n",
       "      <td>...</td>\n",
       "      <td>1</td>\n",
       "      <td>0</td>\n",
       "      <td>0</td>\n",
       "      <td>1</td>\n",
       "      <td>0</td>\n",
       "      <td>0</td>\n",
       "      <td>0</td>\n",
       "      <td>0</td>\n",
       "      <td>1</td>\n",
       "      <td>0</td>\n",
       "    </tr>\n",
       "    <tr>\n",
       "      <th>2</th>\n",
       "      <td>23.0</td>\n",
       "      <td>1.80</td>\n",
       "      <td>2.0</td>\n",
       "      <td>3.0</td>\n",
       "      <td>2.0</td>\n",
       "      <td>2.0</td>\n",
       "      <td>1.0</td>\n",
       "      <td>23.765432</td>\n",
       "      <td>0</td>\n",
       "      <td>1</td>\n",
       "      <td>...</td>\n",
       "      <td>0</td>\n",
       "      <td>0</td>\n",
       "      <td>1</td>\n",
       "      <td>0</td>\n",
       "      <td>0</td>\n",
       "      <td>0</td>\n",
       "      <td>0</td>\n",
       "      <td>0</td>\n",
       "      <td>1</td>\n",
       "      <td>0</td>\n",
       "    </tr>\n",
       "    <tr>\n",
       "      <th>3</th>\n",
       "      <td>27.0</td>\n",
       "      <td>1.80</td>\n",
       "      <td>3.0</td>\n",
       "      <td>3.0</td>\n",
       "      <td>2.0</td>\n",
       "      <td>2.0</td>\n",
       "      <td>0.0</td>\n",
       "      <td>26.851852</td>\n",
       "      <td>0</td>\n",
       "      <td>1</td>\n",
       "      <td>...</td>\n",
       "      <td>0</td>\n",
       "      <td>0</td>\n",
       "      <td>1</td>\n",
       "      <td>0</td>\n",
       "      <td>0</td>\n",
       "      <td>0</td>\n",
       "      <td>0</td>\n",
       "      <td>0</td>\n",
       "      <td>0</td>\n",
       "      <td>1</td>\n",
       "    </tr>\n",
       "    <tr>\n",
       "      <th>4</th>\n",
       "      <td>22.0</td>\n",
       "      <td>1.78</td>\n",
       "      <td>2.0</td>\n",
       "      <td>1.0</td>\n",
       "      <td>2.0</td>\n",
       "      <td>0.0</td>\n",
       "      <td>0.0</td>\n",
       "      <td>28.342381</td>\n",
       "      <td>0</td>\n",
       "      <td>1</td>\n",
       "      <td>...</td>\n",
       "      <td>0</td>\n",
       "      <td>0</td>\n",
       "      <td>0</td>\n",
       "      <td>1</td>\n",
       "      <td>0</td>\n",
       "      <td>0</td>\n",
       "      <td>0</td>\n",
       "      <td>0</td>\n",
       "      <td>1</td>\n",
       "      <td>0</td>\n",
       "    </tr>\n",
       "  </tbody>\n",
       "</table>\n",
       "<p>5 rows × 31 columns</p>\n",
       "</div>"
      ],
      "text/plain": [
       "    Age  Height  FCVC  NCP  CH2O  FAF  TUE        IMC  Gender_Female  \\\n",
       "0  21.0    1.62   2.0  3.0   2.0  0.0  1.0  24.386526              1   \n",
       "1  21.0    1.52   3.0  3.0   3.0  3.0  0.0  24.238227              1   \n",
       "2  23.0    1.80   2.0  3.0   2.0  2.0  1.0  23.765432              0   \n",
       "3  27.0    1.80   3.0  3.0   2.0  2.0  0.0  26.851852              0   \n",
       "4  22.0    1.78   2.0  1.0   2.0  0.0  0.0  28.342381              0   \n",
       "\n",
       "   Gender_Male  ...  SCC_yes  CALC_Always  CALC_Frequently  CALC_Sometimes  \\\n",
       "0            0  ...        0            0                0               0   \n",
       "1            0  ...        1            0                0               1   \n",
       "2            1  ...        0            0                1               0   \n",
       "3            1  ...        0            0                1               0   \n",
       "4            1  ...        0            0                0               1   \n",
       "\n",
       "   CALC_no  MTRANS_Automobile  MTRANS_Bike  MTRANS_Motorbike  \\\n",
       "0        1                  0            0                 0   \n",
       "1        0                  0            0                 0   \n",
       "2        0                  0            0                 0   \n",
       "3        0                  0            0                 0   \n",
       "4        0                  0            0                 0   \n",
       "\n",
       "   MTRANS_Public_Transportation  MTRANS_Walking  \n",
       "0                             1               0  \n",
       "1                             1               0  \n",
       "2                             1               0  \n",
       "3                             0               1  \n",
       "4                             1               0  \n",
       "\n",
       "[5 rows x 31 columns]"
      ]
     },
     "execution_count": 8,
     "metadata": {},
     "output_type": "execute_result"
    }
   ],
   "source": [
    "# showing the results\n",
    "data_regr.head()"
   ]
  },
  {
   "cell_type": "code",
   "execution_count": 9,
   "metadata": {},
   "outputs": [
    {
     "data": {
      "text/html": [
       "<div>\n",
       "<style scoped>\n",
       "    .dataframe tbody tr th:only-of-type {\n",
       "        vertical-align: middle;\n",
       "    }\n",
       "\n",
       "    .dataframe tbody tr th {\n",
       "        vertical-align: top;\n",
       "    }\n",
       "\n",
       "    .dataframe thead th {\n",
       "        text-align: right;\n",
       "    }\n",
       "</style>\n",
       "<table border=\"1\" class=\"dataframe\">\n",
       "  <thead>\n",
       "    <tr style=\"text-align: right;\">\n",
       "      <th></th>\n",
       "      <th>Age</th>\n",
       "      <th>Height</th>\n",
       "      <th>FCVC</th>\n",
       "      <th>NCP</th>\n",
       "      <th>CH2O</th>\n",
       "      <th>FAF</th>\n",
       "      <th>TUE</th>\n",
       "      <th>Gender_Female</th>\n",
       "      <th>Gender_Male</th>\n",
       "      <th>family_history_with_overweight_no</th>\n",
       "      <th>...</th>\n",
       "      <th>CALC_Always</th>\n",
       "      <th>CALC_Frequently</th>\n",
       "      <th>CALC_Sometimes</th>\n",
       "      <th>CALC_no</th>\n",
       "      <th>MTRANS_Automobile</th>\n",
       "      <th>MTRANS_Bike</th>\n",
       "      <th>MTRANS_Motorbike</th>\n",
       "      <th>MTRANS_Public_Transportation</th>\n",
       "      <th>MTRANS_Walking</th>\n",
       "      <th>NObeyesdad</th>\n",
       "    </tr>\n",
       "  </thead>\n",
       "  <tbody>\n",
       "    <tr>\n",
       "      <th>0</th>\n",
       "      <td>21.0</td>\n",
       "      <td>1.62</td>\n",
       "      <td>2.0</td>\n",
       "      <td>3.0</td>\n",
       "      <td>2.0</td>\n",
       "      <td>0.0</td>\n",
       "      <td>1.0</td>\n",
       "      <td>1</td>\n",
       "      <td>0</td>\n",
       "      <td>0</td>\n",
       "      <td>...</td>\n",
       "      <td>0</td>\n",
       "      <td>0</td>\n",
       "      <td>0</td>\n",
       "      <td>1</td>\n",
       "      <td>0</td>\n",
       "      <td>0</td>\n",
       "      <td>0</td>\n",
       "      <td>1</td>\n",
       "      <td>0</td>\n",
       "      <td>1</td>\n",
       "    </tr>\n",
       "    <tr>\n",
       "      <th>1</th>\n",
       "      <td>21.0</td>\n",
       "      <td>1.52</td>\n",
       "      <td>3.0</td>\n",
       "      <td>3.0</td>\n",
       "      <td>3.0</td>\n",
       "      <td>3.0</td>\n",
       "      <td>0.0</td>\n",
       "      <td>1</td>\n",
       "      <td>0</td>\n",
       "      <td>0</td>\n",
       "      <td>...</td>\n",
       "      <td>0</td>\n",
       "      <td>0</td>\n",
       "      <td>1</td>\n",
       "      <td>0</td>\n",
       "      <td>0</td>\n",
       "      <td>0</td>\n",
       "      <td>0</td>\n",
       "      <td>1</td>\n",
       "      <td>0</td>\n",
       "      <td>1</td>\n",
       "    </tr>\n",
       "    <tr>\n",
       "      <th>2</th>\n",
       "      <td>23.0</td>\n",
       "      <td>1.80</td>\n",
       "      <td>2.0</td>\n",
       "      <td>3.0</td>\n",
       "      <td>2.0</td>\n",
       "      <td>2.0</td>\n",
       "      <td>1.0</td>\n",
       "      <td>0</td>\n",
       "      <td>1</td>\n",
       "      <td>0</td>\n",
       "      <td>...</td>\n",
       "      <td>0</td>\n",
       "      <td>1</td>\n",
       "      <td>0</td>\n",
       "      <td>0</td>\n",
       "      <td>0</td>\n",
       "      <td>0</td>\n",
       "      <td>0</td>\n",
       "      <td>1</td>\n",
       "      <td>0</td>\n",
       "      <td>1</td>\n",
       "    </tr>\n",
       "    <tr>\n",
       "      <th>3</th>\n",
       "      <td>27.0</td>\n",
       "      <td>1.80</td>\n",
       "      <td>3.0</td>\n",
       "      <td>3.0</td>\n",
       "      <td>2.0</td>\n",
       "      <td>2.0</td>\n",
       "      <td>0.0</td>\n",
       "      <td>0</td>\n",
       "      <td>1</td>\n",
       "      <td>1</td>\n",
       "      <td>...</td>\n",
       "      <td>0</td>\n",
       "      <td>1</td>\n",
       "      <td>0</td>\n",
       "      <td>0</td>\n",
       "      <td>0</td>\n",
       "      <td>0</td>\n",
       "      <td>0</td>\n",
       "      <td>0</td>\n",
       "      <td>1</td>\n",
       "      <td>5</td>\n",
       "    </tr>\n",
       "    <tr>\n",
       "      <th>4</th>\n",
       "      <td>22.0</td>\n",
       "      <td>1.78</td>\n",
       "      <td>2.0</td>\n",
       "      <td>1.0</td>\n",
       "      <td>2.0</td>\n",
       "      <td>0.0</td>\n",
       "      <td>0.0</td>\n",
       "      <td>0</td>\n",
       "      <td>1</td>\n",
       "      <td>1</td>\n",
       "      <td>...</td>\n",
       "      <td>0</td>\n",
       "      <td>0</td>\n",
       "      <td>1</td>\n",
       "      <td>0</td>\n",
       "      <td>0</td>\n",
       "      <td>0</td>\n",
       "      <td>0</td>\n",
       "      <td>1</td>\n",
       "      <td>0</td>\n",
       "      <td>6</td>\n",
       "    </tr>\n",
       "  </tbody>\n",
       "</table>\n",
       "<p>5 rows × 31 columns</p>\n",
       "</div>"
      ],
      "text/plain": [
       "    Age  Height  FCVC  NCP  CH2O  FAF  TUE  Gender_Female  Gender_Male  \\\n",
       "0  21.0    1.62   2.0  3.0   2.0  0.0  1.0              1            0   \n",
       "1  21.0    1.52   3.0  3.0   3.0  3.0  0.0              1            0   \n",
       "2  23.0    1.80   2.0  3.0   2.0  2.0  1.0              0            1   \n",
       "3  27.0    1.80   3.0  3.0   2.0  2.0  0.0              0            1   \n",
       "4  22.0    1.78   2.0  1.0   2.0  0.0  0.0              0            1   \n",
       "\n",
       "   family_history_with_overweight_no  ...  CALC_Always  CALC_Frequently  \\\n",
       "0                                  0  ...            0                0   \n",
       "1                                  0  ...            0                0   \n",
       "2                                  0  ...            0                1   \n",
       "3                                  1  ...            0                1   \n",
       "4                                  1  ...            0                0   \n",
       "\n",
       "   CALC_Sometimes  CALC_no  MTRANS_Automobile  MTRANS_Bike  MTRANS_Motorbike  \\\n",
       "0               0        1                  0            0                 0   \n",
       "1               1        0                  0            0                 0   \n",
       "2               0        0                  0            0                 0   \n",
       "3               0        0                  0            0                 0   \n",
       "4               1        0                  0            0                 0   \n",
       "\n",
       "   MTRANS_Public_Transportation  MTRANS_Walking  NObeyesdad  \n",
       "0                             1               0           1  \n",
       "1                             1               0           1  \n",
       "2                             1               0           1  \n",
       "3                             0               1           5  \n",
       "4                             1               0           6  \n",
       "\n",
       "[5 rows x 31 columns]"
      ]
     },
     "execution_count": 9,
     "metadata": {},
     "output_type": "execute_result"
    }
   ],
   "source": [
    "# showing the results\n",
    "data_clas.head()"
   ]
  },
  {
   "cell_type": "markdown",
   "metadata": {},
   "source": [
    "## Data Exploration"
   ]
  },
  {
   "cell_type": "code",
   "execution_count": 10,
   "metadata": {},
   "outputs": [
    {
     "data": {
      "image/png": "[encoded data removed]",
      "text/plain": [
       "<Figure size 1152x720 with 2 Axes>"
      ]
     },
     "metadata": {
      "needs_background": "light"
     },
     "output_type": "display_data"
    }
   ],
   "source": [
    "# correlation plot of the values from the table\n",
    "mask = np.zeros_like(data_regr.iloc[:, 0:8].corr())\n",
    "triangle_indices = np.triu_indices_from(mask)\n",
    "mask[triangle_indices] = True\n",
    "\n",
    "plt.figure(figsize=(16,10))\n",
    "sns.heatmap(data_regr.iloc[:, 0:8].corr(),mask=mask, annot=True, annot_kws={\"size\": 14})\n",
    "sns.set_style('white')\n",
    "plt.xticks(fontsize=14)\n",
    "plt.yticks(fontsize=14)\n",
    "plt.show()"
   ]
  },
  {
   "cell_type": "code",
   "execution_count": 11,
   "metadata": {},
   "outputs": [
    {
     "data": {
      "image/png": "[encoded data removed]",
      "text/plain": [
       "<Figure size 1080x7200 with 8 Axes>"
      ]
     },
     "metadata": {},
     "output_type": "display_data"
    }
   ],
   "source": [
    "# making a boxplot for each categorical column in the frame \n",
    "data_cat = data['Weight']/data['Height']**2\n",
    "data_cat = pd.concat([data.select_dtypes(include=['object']).drop(columns=['NObeyesdad']),data_cat],axis=1)\n",
    "data_cat = data_cat.rename(columns={0: \"IMC\"})\n",
    "\n",
    "boxplot(data_cat,'IMC')"
   ]
  },
  {
   "cell_type": "markdown",
   "metadata": {},
   "source": [
    "## Batching"
   ]
  },
  {
   "cell_type": "code",
   "execution_count": 12,
   "metadata": {},
   "outputs": [],
   "source": [
    "# creating test and train sets \n",
    "X_train, X_test, y_train, y_test = train_test_split(data_regr.drop(columns=['IMC']),data_regr['IMC'],\n",
    "                                                    train_size=0.90, random_state=42)"
   ]
  },
  {
   "cell_type": "markdown",
   "metadata": {},
   "source": [
    "## Training"
   ]
  },
  {
   "cell_type": "code",
   "execution_count": 13,
   "metadata": {},
   "outputs": [],
   "source": [
    "# models\n",
    "lr   = LinearRegression()\n",
    "dtr  = DecisionTreeRegressor()\n",
    "rfr  = RandomForestRegressor()\n",
    "xgbr = XGBRegressor()\n",
    "en   = ElasticNet()"
   ]
  },
  {
   "cell_type": "markdown",
   "metadata": {},
   "source": [
    "## Linear Regression"
   ]
  },
  {
   "cell_type": "code",
   "execution_count": 14,
   "metadata": {},
   "outputs": [
    {
     "name": "stdout",
     "output_type": "stream",
     "text": [
      "Fitting 4 folds for each of 2 candidates, totalling 8 fits\n"
     ]
    },
    {
     "name": "stderr",
     "output_type": "stream",
     "text": [
      "[Parallel(n_jobs=4)]: Using backend LokyBackend with 4 concurrent workers.\n",
      "[Parallel(n_jobs=4)]: Done   8 out of   8 | elapsed:    2.1s finished\n"
     ]
    },
    {
     "data": {
      "text/plain": [
       "GridSearchCV(cv=4, error_score=nan,\n",
       "             estimator=LinearRegression(copy_X=True, fit_intercept=True,\n",
       "                                        n_jobs=None, normalize=False),\n",
       "             iid='deprecated', n_jobs=4,\n",
       "             param_grid={'normalize': [False, True]}, pre_dispatch='2*n_jobs',\n",
       "             refit=True, return_train_score=False, scoring=None, verbose=True)"
      ]
     },
     "execution_count": 14,
     "metadata": {},
     "output_type": "execute_result"
    }
   ],
   "source": [
    "# model training and parameter tuning\n",
    "parameters = {'normalize': [False, True]}\n",
    "\n",
    "lr_grid = GridSearchCV(lr,\n",
    "                       parameters,\n",
    "                       cv = 4,\n",
    "                       n_jobs = 4,\n",
    "                       verbose=True)\n",
    "\n",
    "lr_grid.fit(X_train,y_train)"
   ]
  },
  {
   "cell_type": "code",
   "execution_count": 15,
   "metadata": {},
   "outputs": [
    {
     "data": {
      "text/plain": [
       "{'normalize': False}"
      ]
     },
     "execution_count": 15,
     "metadata": {},
     "output_type": "execute_result"
    }
   ],
   "source": [
    "lr_grid.best_params_"
   ]
  },
  {
   "cell_type": "code",
   "execution_count": 16,
   "metadata": {},
   "outputs": [
    {
     "data": {
      "text/html": [
       "<div>\n",
       "<style scoped>\n",
       "    .dataframe tbody tr th:only-of-type {\n",
       "        vertical-align: middle;\n",
       "    }\n",
       "\n",
       "    .dataframe tbody tr th {\n",
       "        vertical-align: top;\n",
       "    }\n",
       "\n",
       "    .dataframe thead th {\n",
       "        text-align: right;\n",
       "    }\n",
       "</style>\n",
       "<table border=\"1\" class=\"dataframe\">\n",
       "  <thead>\n",
       "    <tr style=\"text-align: right;\">\n",
       "      <th></th>\n",
       "      <th>Model</th>\n",
       "      <th>R Squared</th>\n",
       "      <th>MSE</th>\n",
       "    </tr>\n",
       "  </thead>\n",
       "  <tbody>\n",
       "    <tr>\n",
       "      <th>0</th>\n",
       "      <td>Linear Regression</td>\n",
       "      <td>0.445</td>\n",
       "      <td>6.166</td>\n",
       "    </tr>\n",
       "  </tbody>\n",
       "</table>\n",
       "</div>"
      ],
      "text/plain": [
       "               Model  R Squared    MSE\n",
       "0  Linear Regression      0.445  6.166"
      ]
     },
     "execution_count": 16,
     "metadata": {},
     "output_type": "execute_result"
    }
   ],
   "source": [
    "# creating a dataframe with the result of the training\n",
    "model_lr = model_df('Linear Regression',y_test,lr_grid.predict(X_test))\n",
    "\n",
    "model_lr.head()"
   ]
  },
  {
   "cell_type": "markdown",
   "metadata": {},
   "source": [
    "## Decision Tree"
   ]
  },
  {
   "cell_type": "code",
   "execution_count": 17,
   "metadata": {},
   "outputs": [
    {
     "name": "stderr",
     "output_type": "stream",
     "text": [
      "[Parallel(n_jobs=4)]: Using backend LokyBackend with 4 concurrent workers.\n"
     ]
    },
    {
     "name": "stdout",
     "output_type": "stream",
     "text": [
      "Fitting 4 folds for each of 6 candidates, totalling 24 fits\n"
     ]
    },
    {
     "name": "stderr",
     "output_type": "stream",
     "text": [
      "[Parallel(n_jobs=4)]: Done  24 out of  24 | elapsed:    0.1s finished\n"
     ]
    },
    {
     "data": {
      "text/plain": [
       "GridSearchCV(cv=4, error_score=nan,\n",
       "             estimator=DecisionTreeRegressor(ccp_alpha=0.0, criterion='mse',\n",
       "                                             max_depth=None, max_features=None,\n",
       "                                             max_leaf_nodes=None,\n",
       "                                             min_impurity_decrease=0.0,\n",
       "                                             min_impurity_split=None,\n",
       "                                             min_samples_leaf=1,\n",
       "                                             min_samples_split=2,\n",
       "                                             min_weight_fraction_leaf=0.0,\n",
       "                                             presort='deprecated',\n",
       "                                             random_state=None,\n",
       "                                             splitter='best'),\n",
       "             iid='deprecated', n_jobs=4,\n",
       "             param_grid={'max_depth': [5, 6, 7], 'min_samples_leaf': [4, 2]},\n",
       "             pre_dispatch='2*n_jobs', refit=True, return_train_score=False,\n",
       "             scoring=None, verbose=True)"
      ]
     },
     "execution_count": 17,
     "metadata": {},
     "output_type": "execute_result"
    }
   ],
   "source": [
    "# model training and parameter tuning\n",
    "parameters = {'max_depth': [5, 6, 7],\n",
    "              'min_samples_leaf': [4,2]}\n",
    "\n",
    "dtr_grid = GridSearchCV(dtr,\n",
    "                        parameters,\n",
    "                        cv = 4,\n",
    "                        n_jobs = 4,\n",
    "                        verbose=True)\n",
    "\n",
    "dtr_grid.fit(X_train,y_train)"
   ]
  },
  {
   "cell_type": "code",
   "execution_count": 18,
   "metadata": {},
   "outputs": [
    {
     "data": {
      "text/plain": [
       "{'max_depth': 7, 'min_samples_leaf': 4}"
      ]
     },
     "execution_count": 18,
     "metadata": {},
     "output_type": "execute_result"
    }
   ],
   "source": [
    "dtr_grid.best_params_"
   ]
  },
  {
   "cell_type": "code",
   "execution_count": 19,
   "metadata": {},
   "outputs": [
    {
     "data": {
      "text/html": [
       "<div>\n",
       "<style scoped>\n",
       "    .dataframe tbody tr th:only-of-type {\n",
       "        vertical-align: middle;\n",
       "    }\n",
       "\n",
       "    .dataframe tbody tr th {\n",
       "        vertical-align: top;\n",
       "    }\n",
       "\n",
       "    .dataframe thead th {\n",
       "        text-align: right;\n",
       "    }\n",
       "</style>\n",
       "<table border=\"1\" class=\"dataframe\">\n",
       "  <thead>\n",
       "    <tr style=\"text-align: right;\">\n",
       "      <th></th>\n",
       "      <th>Model</th>\n",
       "      <th>R Squared</th>\n",
       "      <th>MSE</th>\n",
       "    </tr>\n",
       "  </thead>\n",
       "  <tbody>\n",
       "    <tr>\n",
       "      <th>0</th>\n",
       "      <td>Decision Tree</td>\n",
       "      <td>0.751</td>\n",
       "      <td>4.134</td>\n",
       "    </tr>\n",
       "  </tbody>\n",
       "</table>\n",
       "</div>"
      ],
      "text/plain": [
       "           Model  R Squared    MSE\n",
       "0  Decision Tree      0.751  4.134"
      ]
     },
     "execution_count": 19,
     "metadata": {},
     "output_type": "execute_result"
    }
   ],
   "source": [
    "# creating a dataframe with the result of the training\n",
    "model_dtr = model_df('Decision Tree',y_test,dtr_grid.predict(X_test))\n",
    "\n",
    "model_dtr.head()"
   ]
  },
  {
   "cell_type": "markdown",
   "metadata": {},
   "source": [
    "## Random Forest"
   ]
  },
  {
   "cell_type": "code",
   "execution_count": 20,
   "metadata": {},
   "outputs": [
    {
     "name": "stderr",
     "output_type": "stream",
     "text": [
      "[Parallel(n_jobs=4)]: Using backend LokyBackend with 4 concurrent workers.\n"
     ]
    },
    {
     "name": "stdout",
     "output_type": "stream",
     "text": [
      "Fitting 4 folds for each of 12 candidates, totalling 48 fits\n"
     ]
    },
    {
     "name": "stderr",
     "output_type": "stream",
     "text": [
      "[Parallel(n_jobs=4)]: Done  48 out of  48 | elapsed:   17.3s finished\n"
     ]
    },
    {
     "data": {
      "text/plain": [
       "GridSearchCV(cv=4, error_score=nan,\n",
       "             estimator=RandomForestRegressor(bootstrap=True, ccp_alpha=0.0,\n",
       "                                             criterion='mse', max_depth=None,\n",
       "                                             max_features='auto',\n",
       "                                             max_leaf_nodes=None,\n",
       "                                             max_samples=None,\n",
       "                                             min_impurity_decrease=0.0,\n",
       "                                             min_impurity_split=None,\n",
       "                                             min_samples_leaf=1,\n",
       "                                             min_samples_split=2,\n",
       "                                             min_weight_fraction_leaf=0.0,\n",
       "                                             n_estimators=100, n_jobs=None,\n",
       "                                             oob_score=False, random_state=None,\n",
       "                                             verbose=0, warm_start=False),\n",
       "             iid='deprecated', n_jobs=4,\n",
       "             param_grid={'max_depth': [9, 12, 15],\n",
       "                         'n_estimators': [50, 100, 150, 200]},\n",
       "             pre_dispatch='2*n_jobs', refit=True, return_train_score=False,\n",
       "             scoring=None, verbose=True)"
      ]
     },
     "execution_count": 20,
     "metadata": {},
     "output_type": "execute_result"
    }
   ],
   "source": [
    "# model training and parameter tuning\n",
    "parameters = {'max_depth': [9, 12, 15],\n",
    "              'n_estimators': [50,100,150,200]}\n",
    "\n",
    "rf_grid = GridSearchCV(rfr,\n",
    "                       parameters,\n",
    "                       cv = 4,\n",
    "                       n_jobs = 4,\n",
    "                       verbose=True)\n",
    "\n",
    "rf_grid.fit(X_train,y_train)"
   ]
  },
  {
   "cell_type": "code",
   "execution_count": 21,
   "metadata": {},
   "outputs": [
    {
     "data": {
      "text/plain": [
       "{'max_depth': 15, 'n_estimators': 150}"
      ]
     },
     "execution_count": 21,
     "metadata": {},
     "output_type": "execute_result"
    }
   ],
   "source": [
    "rf_grid.best_params_"
   ]
  },
  {
   "cell_type": "code",
   "execution_count": 74,
   "metadata": {},
   "outputs": [
    {
     "data": {
      "text/html": [
       "<div>\n",
       "<style scoped>\n",
       "    .dataframe tbody tr th:only-of-type {\n",
       "        vertical-align: middle;\n",
       "    }\n",
       "\n",
       "    .dataframe tbody tr th {\n",
       "        vertical-align: top;\n",
       "    }\n",
       "\n",
       "    .dataframe thead th {\n",
       "        text-align: right;\n",
       "    }\n",
       "</style>\n",
       "<table border=\"1\" class=\"dataframe\">\n",
       "  <thead>\n",
       "    <tr style=\"text-align: right;\">\n",
       "      <th></th>\n",
       "      <th>Model</th>\n",
       "      <th>R Squared</th>\n",
       "      <th>MSE</th>\n",
       "    </tr>\n",
       "  </thead>\n",
       "  <tbody>\n",
       "    <tr>\n",
       "      <th>0</th>\n",
       "      <td>Random Forest</td>\n",
       "      <td>-219.954</td>\n",
       "      <td>27.859</td>\n",
       "    </tr>\n",
       "  </tbody>\n",
       "</table>\n",
       "</div>"
      ],
      "text/plain": [
       "           Model  R Squared     MSE\n",
       "0  Random Forest   -219.954  27.859"
      ]
     },
     "execution_count": 74,
     "metadata": {},
     "output_type": "execute_result"
    }
   ],
   "source": [
    "# creating a dataframe with the result of the training\n",
    "model_rf = model_df('Random Forest',y_test,rf_grid.predict(X_test))\n",
    "\n",
    "model_rf.head()"
   ]
  },
  {
   "cell_type": "markdown",
   "metadata": {},
   "source": [
    "## XGBR"
   ]
  },
  {
   "cell_type": "code",
   "execution_count": 23,
   "metadata": {},
   "outputs": [
    {
     "name": "stdout",
     "output_type": "stream",
     "text": [
      "Fitting 4 folds for each of 54 candidates, totalling 216 fits\n"
     ]
    },
    {
     "name": "stderr",
     "output_type": "stream",
     "text": [
      "[Parallel(n_jobs=4)]: Using backend LokyBackend with 4 concurrent workers.\n",
      "[Parallel(n_jobs=4)]: Done  42 tasks      | elapsed:   20.0s\n",
      "[Parallel(n_jobs=4)]: Done 192 tasks      | elapsed:  1.6min\n",
      "[Parallel(n_jobs=4)]: Done 216 out of 216 | elapsed:  1.8min finished\n"
     ]
    },
    {
     "data": {
      "text/plain": [
       "GridSearchCV(cv=4, error_score=nan,\n",
       "             estimator=XGBRegressor(base_score=0.5, booster='gbtree',\n",
       "                                    colsample_bylevel=1, colsample_bynode=1,\n",
       "                                    colsample_bytree=1, gamma=0,\n",
       "                                    importance_type='gain', learning_rate=0.1,\n",
       "                                    max_delta_step=0, max_depth=3,\n",
       "                                    min_child_weight=1, missing=None,\n",
       "                                    n_estimators=100, n_jobs=1, nthread=None,\n",
       "                                    objective='reg:linear', random_state=0,\n",
       "                                    reg_alpha=0, reg_...\n",
       "                                    scale_pos_weight=1, seed=None, silent=None,\n",
       "                                    subsample=1, verbosity=1),\n",
       "             iid='deprecated', n_jobs=4,\n",
       "             param_grid={'colsample_bytree': [0.7],\n",
       "                         'learning_rate': [0.03, 0.05, 0.07],\n",
       "                         'max_depth': [5, 6, 7], 'min_child_weight': [4, 3],\n",
       "                         'n_estimators': [200, 500, 700],\n",
       "                         'objective': ['reg:squarederror'],\n",
       "                         'subsample': [0.7]},\n",
       "             pre_dispatch='2*n_jobs', refit=True, return_train_score=False,\n",
       "             scoring=None, verbose=True)"
      ]
     },
     "execution_count": 23,
     "metadata": {},
     "output_type": "execute_result"
    }
   ],
   "source": [
    "# model training and parameter tuning\n",
    "parameters = {'objective':['reg:squarederror'],\n",
    "              'learning_rate': [0.03, 0.05, .07], \n",
    "              'max_depth': [5, 6, 7],\n",
    "              'min_child_weight': [4,3],\n",
    "              'subsample': [0.7],\n",
    "              'colsample_bytree': [0.7],\n",
    "              'n_estimators': [200,500,700]}\n",
    "\n",
    "xgb_grid = GridSearchCV(xgbr,\n",
    "                        parameters,\n",
    "                        cv = 4,\n",
    "                        n_jobs = 4,\n",
    "                        verbose=True)\n",
    "\n",
    "xgb_grid.fit(X_train,y_train)"
   ]
  },
  {
   "cell_type": "code",
   "execution_count": 24,
   "metadata": {},
   "outputs": [
    {
     "data": {
      "text/plain": [
       "{'colsample_bytree': 0.7,\n",
       " 'learning_rate': 0.03,\n",
       " 'max_depth': 7,\n",
       " 'min_child_weight': 3,\n",
       " 'n_estimators': 700,\n",
       " 'objective': 'reg:squarederror',\n",
       " 'subsample': 0.7}"
      ]
     },
     "execution_count": 24,
     "metadata": {},
     "output_type": "execute_result"
    }
   ],
   "source": [
    "xgb_grid.best_params_"
   ]
  },
  {
   "cell_type": "code",
   "execution_count": 25,
   "metadata": {},
   "outputs": [
    {
     "data": {
      "text/html": [
       "<div>\n",
       "<style scoped>\n",
       "    .dataframe tbody tr th:only-of-type {\n",
       "        vertical-align: middle;\n",
       "    }\n",
       "\n",
       "    .dataframe tbody tr th {\n",
       "        vertical-align: top;\n",
       "    }\n",
       "\n",
       "    .dataframe thead th {\n",
       "        text-align: right;\n",
       "    }\n",
       "</style>\n",
       "<table border=\"1\" class=\"dataframe\">\n",
       "  <thead>\n",
       "    <tr style=\"text-align: right;\">\n",
       "      <th></th>\n",
       "      <th>Model</th>\n",
       "      <th>R Squared</th>\n",
       "      <th>MSE</th>\n",
       "    </tr>\n",
       "  </thead>\n",
       "  <tbody>\n",
       "    <tr>\n",
       "      <th>0</th>\n",
       "      <td>XGBR</td>\n",
       "      <td>0.891</td>\n",
       "      <td>2.737</td>\n",
       "    </tr>\n",
       "  </tbody>\n",
       "</table>\n",
       "</div>"
      ],
      "text/plain": [
       "  Model  R Squared    MSE\n",
       "0  XGBR      0.891  2.737"
      ]
     },
     "execution_count": 25,
     "metadata": {},
     "output_type": "execute_result"
    }
   ],
   "source": [
    "# creating a dataframe with the result of the training\n",
    "model_xgb = model_df('XGBR',y_test,xgb_grid.predict(X_test))\n",
    "\n",
    "model_xgb.head()"
   ]
  },
  {
   "cell_type": "markdown",
   "metadata": {},
   "source": [
    "## ElasticNet"
   ]
  },
  {
   "cell_type": "code",
   "execution_count": 26,
   "metadata": {},
   "outputs": [
    {
     "name": "stdout",
     "output_type": "stream",
     "text": [
      "Fitting 4 folds for each of 15 candidates, totalling 60 fits\n"
     ]
    },
    {
     "name": "stderr",
     "output_type": "stream",
     "text": [
      "[Parallel(n_jobs=4)]: Using backend LokyBackend with 4 concurrent workers.\n",
      "[Parallel(n_jobs=4)]: Done  60 out of  60 | elapsed:    1.0s finished\n"
     ]
    },
    {
     "data": {
      "text/plain": [
       "GridSearchCV(cv=4, error_score=nan,\n",
       "             estimator=ElasticNet(alpha=1.0, copy_X=True, fit_intercept=True,\n",
       "                                  l1_ratio=0.5, max_iter=1000, normalize=False,\n",
       "                                  positive=False, precompute=False,\n",
       "                                  random_state=None, selection='cyclic',\n",
       "                                  tol=0.0001, warm_start=False),\n",
       "             iid='deprecated', n_jobs=4,\n",
       "             param_grid={'alpha': [0.5, 1, 2],\n",
       "                         'l1_ratio': [0, 0.25, 0.5, 0.75, 1],\n",
       "                         'max_iter': [2000]},\n",
       "             pre_dispatch='2*n_jobs', refit=True, return_train_score=False,\n",
       "             scoring=None, verbose=True)"
      ]
     },
     "execution_count": 26,
     "metadata": {},
     "output_type": "execute_result"
    }
   ],
   "source": [
    "# model training and parameter tuning\n",
    "parameters = {\"l1_ratio\":[0,0.25,.5,.75,1],\n",
    "              \"alpha\":[0.5,1,2],\n",
    "              \"max_iter\":[2000]}\n",
    "\n",
    "en_grid = GridSearchCV( en,\n",
    "                        parameters,\n",
    "                        cv = 4,\n",
    "                        n_jobs = 4,\n",
    "                        verbose=True)\n",
    "\n",
    "en_grid.fit(X_train,y_train)"
   ]
  },
  {
   "cell_type": "code",
   "execution_count": 27,
   "metadata": {},
   "outputs": [
    {
     "data": {
      "text/plain": [
       "{'alpha': 0.5, 'l1_ratio': 1, 'max_iter': 2000}"
      ]
     },
     "execution_count": 27,
     "metadata": {},
     "output_type": "execute_result"
    }
   ],
   "source": [
    "en_grid.best_params_"
   ]
  },
  {
   "cell_type": "code",
   "execution_count": 28,
   "metadata": {},
   "outputs": [
    {
     "data": {
      "text/html": [
       "<div>\n",
       "<style scoped>\n",
       "    .dataframe tbody tr th:only-of-type {\n",
       "        vertical-align: middle;\n",
       "    }\n",
       "\n",
       "    .dataframe tbody tr th {\n",
       "        vertical-align: top;\n",
       "    }\n",
       "\n",
       "    .dataframe thead th {\n",
       "        text-align: right;\n",
       "    }\n",
       "</style>\n",
       "<table border=\"1\" class=\"dataframe\">\n",
       "  <thead>\n",
       "    <tr style=\"text-align: right;\">\n",
       "      <th></th>\n",
       "      <th>Model</th>\n",
       "      <th>R Squared</th>\n",
       "      <th>MSE</th>\n",
       "    </tr>\n",
       "  </thead>\n",
       "  <tbody>\n",
       "    <tr>\n",
       "      <th>0</th>\n",
       "      <td>ElasticNet</td>\n",
       "      <td>0.373</td>\n",
       "      <td>6.556</td>\n",
       "    </tr>\n",
       "  </tbody>\n",
       "</table>\n",
       "</div>"
      ],
      "text/plain": [
       "        Model  R Squared    MSE\n",
       "0  ElasticNet      0.373  6.556"
      ]
     },
     "execution_count": 28,
     "metadata": {},
     "output_type": "execute_result"
    }
   ],
   "source": [
    "# creating a dataframe with the result of the training\n",
    "model_en = model_df('ElasticNet',y_test,en_grid.predict(X_test))\n",
    "\n",
    "model_en.head()"
   ]
  },
  {
   "cell_type": "markdown",
   "metadata": {},
   "source": [
    "## Training Results and Analysis"
   ]
  },
  {
   "cell_type": "code",
   "execution_count": 29,
   "metadata": {},
   "outputs": [
    {
     "data": {
      "text/html": [
       "<div>\n",
       "<style scoped>\n",
       "    .dataframe tbody tr th:only-of-type {\n",
       "        vertical-align: middle;\n",
       "    }\n",
       "\n",
       "    .dataframe tbody tr th {\n",
       "        vertical-align: top;\n",
       "    }\n",
       "\n",
       "    .dataframe thead th {\n",
       "        text-align: right;\n",
       "    }\n",
       "</style>\n",
       "<table border=\"1\" class=\"dataframe\">\n",
       "  <thead>\n",
       "    <tr style=\"text-align: right;\">\n",
       "      <th></th>\n",
       "      <th>Model</th>\n",
       "      <th>R Squared</th>\n",
       "      <th>MSE</th>\n",
       "    </tr>\n",
       "  </thead>\n",
       "  <tbody>\n",
       "    <tr>\n",
       "      <th>0</th>\n",
       "      <td>Linear Regression</td>\n",
       "      <td>0.445</td>\n",
       "      <td>6.166</td>\n",
       "    </tr>\n",
       "    <tr>\n",
       "      <th>0</th>\n",
       "      <td>Decision Tree</td>\n",
       "      <td>0.751</td>\n",
       "      <td>4.134</td>\n",
       "    </tr>\n",
       "    <tr>\n",
       "      <th>0</th>\n",
       "      <td>Random Forest</td>\n",
       "      <td>0.878</td>\n",
       "      <td>2.896</td>\n",
       "    </tr>\n",
       "    <tr>\n",
       "      <th>0</th>\n",
       "      <td>XGBR</td>\n",
       "      <td>0.891</td>\n",
       "      <td>2.737</td>\n",
       "    </tr>\n",
       "    <tr>\n",
       "      <th>0</th>\n",
       "      <td>ElasticNet</td>\n",
       "      <td>0.373</td>\n",
       "      <td>6.556</td>\n",
       "    </tr>\n",
       "  </tbody>\n",
       "</table>\n",
       "</div>"
      ],
      "text/plain": [
       "               Model  R Squared    MSE\n",
       "0  Linear Regression      0.445  6.166\n",
       "0      Decision Tree      0.751  4.134\n",
       "0      Random Forest      0.878  2.896\n",
       "0               XGBR      0.891  2.737\n",
       "0         ElasticNet      0.373  6.556"
      ]
     },
     "execution_count": 29,
     "metadata": {},
     "output_type": "execute_result"
    }
   ],
   "source": [
    "# creating a dataframe with all the traing results\n",
    "Training  =  pd.concat([model_lr ,\n",
    "                        model_dtr,\n",
    "                        model_rf ,\n",
    "                        model_xgb,\n",
    "                        model_en],\n",
    "                        axis=0)\n",
    "Training.head()"
   ]
  },
  {
   "cell_type": "markdown",
   "metadata": {},
   "source": [
    "Apparently the best model result to be the XG boost, having the highest R squared and the lowest MSE. In the next part we are going to analyse the predicted values and the residuals, to assure that the models perform well."
   ]
  },
  {
   "cell_type": "code",
   "execution_count": 30,
   "metadata": {},
   "outputs": [],
   "source": [
    "# creating the series of the predictions and metrics\n",
    "\n",
    "# xg boost\n",
    "y_pred_xgb          = pd.Series(xgb_grid.predict(X_test)) \n",
    "\n",
    "resid_pred_xgb      = y_test - y_pred_xgb \n",
    "\n",
    "corr_pred_xgb       = round(y_test.corr(y_pred_xgb), 2)\n",
    "\n",
    "resid_pred_mean_xgb = round(resid_pred_xgb.mean(),2)\n",
    "\n",
    "resid_pred_skew_xgb = round(resid_pred_xgb.skew(),2)\n",
    "\n",
    "# random forest\n",
    "y_pred_rf          = pd.Series(rf_grid.predict(X_test)) \n",
    "\n",
    "resid_pred_rf      = y_test - y_pred_rf \n",
    "\n",
    "corr_pred_rf       = round(y_test.corr(y_pred_rf), 2)\n",
    "\n",
    "resid_pred_mean_rf = round(resid_pred_rf.mean(),2)\n",
    "\n",
    "resid_pred_skew_rf = round(resid_pred_rf.skew(),2)"
   ]
  },
  {
   "cell_type": "code",
   "execution_count": 31,
   "metadata": {},
   "outputs": [
    {
     "data": {
      "image/png": "[encoded data removed]",
      "text/plain": [
       "<Figure size 1440x1440 with 2 Axes>"
      ]
     },
     "metadata": {},
     "output_type": "display_data"
    }
   ],
   "source": [
    "# ploting the real and the predicted values \n",
    "\n",
    "plt.figure(figsize=(20, 20))\n",
    "\n",
    "plt.subplot(221)\n",
    "\n",
    "plt.scatter(x=y_test, y=y_pred_xgb, c='navy', alpha=0.6)\n",
    "plt.plot(y_test, y_test, color='cyan')\n",
    "\n",
    "plt.xlabel('Real Values', fontsize=16)\n",
    "plt.ylabel('Regression Values', fontsize=16)\n",
    "plt.title(f'Real Values vs. Pred Values In XG Boost (Corr {corr_pred_xgb})', fontsize=17)\n",
    "\n",
    "plt.subplot(222)\n",
    "\n",
    "plt.scatter(x=y_test, y=y_pred_rf, c='navy', alpha=0.6)\n",
    "plt.plot(y_test, y_test, color='cyan')\n",
    "\n",
    "plt.xlabel('Real Values', fontsize=16)\n",
    "plt.ylabel('Regression Values', fontsize=16)\n",
    "plt.title(f'Real Values vs. Pred Values in Random Forest (Corr {corr_pred_rf})', fontsize=17)\n",
    "\n",
    "plt.show()"
   ]
  },
  {
   "cell_type": "code",
   "execution_count": 32,
   "metadata": {},
   "outputs": [
    {
     "name": "stderr",
     "output_type": "stream",
     "text": [
      "C:\\Users\\Alexis\\Anaconda3\\lib\\site-packages\\scipy\\stats\\stats.py:1713: FutureWarning: Using a non-tuple sequence for multidimensional indexing is deprecated; use `arr[tuple(seq)]` instead of `arr[seq]`. In the future this will be interpreted as an array index, `arr[np.array(seq)]`, which will result either in an error or a different result.\n",
      "  return np.add.reduce(sorted[indexer] * weights, axis=axis) / sumval\n",
      "C:\\Users\\Alexis\\Anaconda3\\lib\\site-packages\\scipy\\stats\\stats.py:1713: FutureWarning: Using a non-tuple sequence for multidimensional indexing is deprecated; use `arr[tuple(seq)]` instead of `arr[seq]`. In the future this will be interpreted as an array index, `arr[np.array(seq)]`, which will result either in an error or a different result.\n",
      "  return np.add.reduce(sorted[indexer] * weights, axis=axis) / sumval\n"
     ]
    },
    {
     "data": {
      "image/png": "[encoded data removed]",
      "text/plain": [
       "<Figure size 1440x1440 with 2 Axes>"
      ]
     },
     "metadata": {},
     "output_type": "display_data"
    }
   ],
   "source": [
    "# ploting the frecuency of the residuals\n",
    "plt.figure(figsize=(20, 20))\n",
    "\n",
    "plt.subplot(221)\n",
    "\n",
    "sns.distplot(resid_pred_xgb, color='indigo')\n",
    "\n",
    "plt.title(f'Regression Residuals XG Boost Skew ({resid_pred_skew_xgb}) Mean ({resid_pred_mean_xgb})', fontsize=17)\n",
    "\n",
    "plt.subplot(222)\n",
    "\n",
    "sns.distplot(resid_pred_rf, color='indigo')\n",
    "\n",
    "plt.title(f'Regression Residuals RF Skew ({resid_pred_skew_rf}) Mean ({resid_pred_mean_rf})', fontsize=17)\n",
    "\n",
    "\n",
    "plt.show()"
   ]
  },
  {
   "cell_type": "markdown",
   "metadata": {},
   "source": []
  },
  {
   "cell_type": "markdown",
   "metadata": {},
   "source": [
    "# Clasification"
   ]
  },
  {
   "cell_type": "markdown",
   "metadata": {},
   "source": [
    "## Batching"
   ]
  },
  {
   "cell_type": "code",
   "execution_count": 70,
   "metadata": {},
   "outputs": [],
   "source": [
    "# creating test and train sets \n",
    "X_train, X_test, y_train, y_test = train_test_split(data_clas.drop(columns=['NObeyesdad']),data_clas['NObeyesdad'],\n",
    "                                                    train_size=0.90, random_state=42)"
   ]
  },
  {
   "cell_type": "markdown",
   "metadata": {},
   "source": [
    "## Random Forest"
   ]
  },
  {
   "cell_type": "code",
   "execution_count": 34,
   "metadata": {},
   "outputs": [],
   "source": [
    "# the pipeline witch the starter scalers and models\n",
    "pipe_fore    = Pipeline([\n",
    "                         ('dt', RandomForestClassifier())\n",
    "                          ])\n",
    "\n",
    "# the parameters and diferent models/scalers that will be used\n",
    "pargrid_fore = [\n",
    "                {'dt':[RandomForestClassifier()],\n",
    "                 'dt__bootstrap': [True,False],\n",
    "                 'dt__max_depth': [150, 200],\n",
    "                 'dt__min_samples_leaf': [2, 3],\n",
    "                 'dt__n_estimators': [ 800, 1000]}\n",
    "                  ]"
   ]
  },
  {
   "cell_type": "code",
   "execution_count": 35,
   "metadata": {},
   "outputs": [],
   "source": [
    "# model training and the time that is running\n",
    "t0 = time.time()\n",
    "\n",
    "CV_fore = KFold(n_splits=4)\n",
    "\n",
    "GS_fore = GridSearchCV(estimator = pipe_fore,\n",
    "                  param_grid = pargrid_fore,\n",
    "                  cv=CV_fore,\n",
    "                  n_jobs= -3)\n",
    "\n",
    "GS_fore.fit(X_train,y_train)\n",
    "\n",
    "run_time_fore = time.time() - t0"
   ]
  },
  {
   "cell_type": "code",
   "execution_count": 36,
   "metadata": {},
   "outputs": [
    {
     "data": {
      "text/plain": [
       "{'dt': RandomForestClassifier(bootstrap=False, ccp_alpha=0.0, class_weight=None,\n",
       "                        criterion='gini', max_depth=150, max_features='auto',\n",
       "                        max_leaf_nodes=None, max_samples=None,\n",
       "                        min_impurity_decrease=0.0, min_impurity_split=None,\n",
       "                        min_samples_leaf=2, min_samples_split=2,\n",
       "                        min_weight_fraction_leaf=0.0, n_estimators=800,\n",
       "                        n_jobs=None, oob_score=False, random_state=None,\n",
       "                        verbose=0, warm_start=False),\n",
       " 'dt__bootstrap': False,\n",
       " 'dt__max_depth': 150,\n",
       " 'dt__min_samples_leaf': 2,\n",
       " 'dt__n_estimators': 800}"
      ]
     },
     "execution_count": 36,
     "metadata": {},
     "output_type": "execute_result"
    }
   ],
   "source": [
    "# best paramameters specified in the param_grid \n",
    "GS_fore.best_params_"
   ]
  },
  {
   "cell_type": "code",
   "execution_count": 37,
   "metadata": {},
   "outputs": [
    {
     "name": "stdout",
     "output_type": "stream",
     "text": [
      "Misclassified samples: 26\n",
      "Accuracy: 0.88\n"
     ]
    }
   ],
   "source": [
    "# use the model to make predictions with the test data\n",
    "y_pred_fore = GS_fore.predict(X_test)\n",
    "\n",
    "# how did our model perform\n",
    "count_misclassified_fore = (y_test != y_pred_fore).sum()\n",
    "accuracy_fore            = metrics.accuracy_score(y_test, y_pred_fore)\n",
    "\n",
    "# print the results\n",
    "print('Misclassified samples: {}'.format(count_misclassified_fore))\n",
    "print('Accuracy: {:.2f}'.format(accuracy_fore))"
   ]
  },
  {
   "cell_type": "markdown",
   "metadata": {},
   "source": [
    "## XGRB"
   ]
  },
  {
   "cell_type": "code",
   "execution_count": 38,
   "metadata": {},
   "outputs": [],
   "source": [
    "# the pipeline witch the starter scalers and models\n",
    "pipe_xgbr = Pipeline([('xgbrg', XGBClassifier())])\n",
    "\n",
    "# the parameters and diferent models/scalers that will be used\n",
    "pargrid_xgbr = [\n",
    "                 {'xgbrg':[XGBClassifier()],\n",
    "                 'xgbrg__objective': ['multi:softmax'],\n",
    "                 'xgbrg__num_class': [7],\n",
    "                 'xgbrg__max_depth': [10, 15, 20],\n",
    "                 }\n",
    "                  ]"
   ]
  },
  {
   "cell_type": "code",
   "execution_count": 39,
   "metadata": {},
   "outputs": [
    {
     "data": {
      "text/plain": [
       "GridSearchCV(cv=KFold(n_splits=4, random_state=None, shuffle=False),\n",
       "             error_score=nan,\n",
       "             estimator=Pipeline(memory=None,\n",
       "                                steps=[('xgbrg',\n",
       "                                        XGBClassifier(base_score=0.5,\n",
       "                                                      booster='gbtree',\n",
       "                                                      colsample_bylevel=1,\n",
       "                                                      colsample_bynode=1,\n",
       "                                                      colsample_bytree=1,\n",
       "                                                      gamma=0,\n",
       "                                                      learning_rate=0.1,\n",
       "                                                      max_delta_step=0,\n",
       "                                                      max_depth=3,\n",
       "                                                      min_child_weight=1,\n",
       "                                                      missing=None,\n",
       "                                                      n_estimators=100,\n",
       "                                                      n_jobs=1, nthr...\n",
       "                                                  n_estimators=100, n_jobs=1,\n",
       "                                                  nthread=None, num_class=7,\n",
       "                                                  objective='multi:softmax',\n",
       "                                                  random_state=0, reg_alpha=0,\n",
       "                                                  reg_lambda=1,\n",
       "                                                  scale_pos_weight=1, seed=None,\n",
       "                                                  silent=None, subsample=1,\n",
       "                                                  verbosity=1)],\n",
       "                          'xgbrg__max_depth': [10, 15, 20],\n",
       "                          'xgbrg__num_class': [7],\n",
       "                          'xgbrg__objective': ['multi:softmax']}],\n",
       "             pre_dispatch='2*n_jobs', refit=True, return_train_score=False,\n",
       "             scoring=None, verbose=0)"
      ]
     },
     "execution_count": 39,
     "metadata": {},
     "output_type": "execute_result"
    }
   ],
   "source": [
    "# model training and the time that is running\n",
    "\n",
    "CV_xgbr = KFold(n_splits=4)\n",
    "\n",
    "GS_xgbr = GridSearchCV(estimator = pipe_xgbr,\n",
    "                  param_grid = pargrid_xgbr,\n",
    "                  cv=CV_xgbr,\n",
    "                  n_jobs= -3)\n",
    "\n",
    "GS_xgbr.fit(X_train,y_train.astype(np.float64))"
   ]
  },
  {
   "cell_type": "code",
   "execution_count": 40,
   "metadata": {},
   "outputs": [
    {
     "data": {
      "text/plain": [
       "{'xgbrg': XGBClassifier(base_score=0.5, booster='gbtree', colsample_bylevel=1,\n",
       "               colsample_bynode=1, colsample_bytree=1, gamma=0,\n",
       "               learning_rate=0.1, max_delta_step=0, max_depth=10,\n",
       "               min_child_weight=1, missing=None, n_estimators=100, n_jobs=1,\n",
       "               nthread=None, num_class=7, objective='multi:softmax',\n",
       "               random_state=0, reg_alpha=0, reg_lambda=1, scale_pos_weight=1,\n",
       "               seed=None, silent=None, subsample=1, verbosity=1),\n",
       " 'xgbrg__max_depth': 10,\n",
       " 'xgbrg__num_class': 7,\n",
       " 'xgbrg__objective': 'multi:softmax'}"
      ]
     },
     "execution_count": 40,
     "metadata": {},
     "output_type": "execute_result"
    }
   ],
   "source": [
    "# best paramameters specified in the param_grid \n",
    "GS_xgbr.best_params_"
   ]
  },
  {
   "cell_type": "code",
   "execution_count": 41,
   "metadata": {},
   "outputs": [
    {
     "name": "stdout",
     "output_type": "stream",
     "text": [
      "Misclassified samples: 33\n",
      "Accuracy: 0.84\n"
     ]
    }
   ],
   "source": [
    "# use the model to make predictions with the test data\n",
    "y_pred_xgbr = GS_xgbr.predict(X_test)\n",
    "\n",
    "# how did our model perform\n",
    "count_misclassified_xgbr = (y_test.astype(np.float64) != y_pred_xgbr).sum()\n",
    "accuracy_xgbr = metrics.accuracy_score(y_test.astype(np.float64), y_pred_xgbr)\n",
    "\n",
    "# print the results\n",
    "print('Misclassified samples: {}'.format(count_misclassified_xgbr))\n",
    "print('Accuracy: {:.2f}'.format(accuracy_xgbr))"
   ]
  },
  {
   "cell_type": "code",
   "execution_count": null,
   "metadata": {},
   "outputs": [],
   "source": []
  },
  {
   "cell_type": "markdown",
   "metadata": {},
   "source": [
    "# Final Results"
   ]
  },
  {
   "cell_type": "markdown",
   "metadata": {},
   "source": [
    "Now the idea is compare the two forms of prediction and see wich one performs better "
   ]
  },
  {
   "cell_type": "code",
   "execution_count": 46,
   "metadata": {},
   "outputs": [],
   "source": [
    "# first whe need to find wich intervals of IMC correspond to each NObeyesdad\n",
    "imc_range =  pd.concat([data[['NObeyesdad','IMC']].rename(columns={'IMC': \"min\"}).groupby(['NObeyesdad']).min()  ,\n",
    "                        data[['NObeyesdad','IMC']].rename(columns={'IMC': \"max\"}).groupby(['NObeyesdad']).max()  ,\n",
    "                        data[['NObeyesdad','IMC']].rename(columns={'IMC': \"mean\"}).groupby(['NObeyesdad']).mean()],\n",
    "                        axis=1)\n",
    "\n",
    "imc_range = imc_range.sort_values(by=['mean'])"
   ]
  },
  {
   "cell_type": "code",
   "execution_count": 47,
   "metadata": {},
   "outputs": [
    {
     "data": {
      "text/html": [
       "<div>\n",
       "<style scoped>\n",
       "    .dataframe tbody tr th:only-of-type {\n",
       "        vertical-align: middle;\n",
       "    }\n",
       "\n",
       "    .dataframe tbody tr th {\n",
       "        vertical-align: top;\n",
       "    }\n",
       "\n",
       "    .dataframe thead th {\n",
       "        text-align: right;\n",
       "    }\n",
       "</style>\n",
       "<table border=\"1\" class=\"dataframe\">\n",
       "  <thead>\n",
       "    <tr style=\"text-align: right;\">\n",
       "      <th></th>\n",
       "      <th>min</th>\n",
       "      <th>max</th>\n",
       "      <th>mean</th>\n",
       "    </tr>\n",
       "    <tr>\n",
       "      <th>NObeyesdad</th>\n",
       "      <th></th>\n",
       "      <th></th>\n",
       "      <th></th>\n",
       "    </tr>\n",
       "  </thead>\n",
       "  <tbody>\n",
       "    <tr>\n",
       "      <th>Insufficient_Weight</th>\n",
       "      <td>12.998685</td>\n",
       "      <td>19.082206</td>\n",
       "      <td>17.404245</td>\n",
       "    </tr>\n",
       "    <tr>\n",
       "      <th>Normal_Weight</th>\n",
       "      <td>18.491124</td>\n",
       "      <td>24.913495</td>\n",
       "      <td>22.014147</td>\n",
       "    </tr>\n",
       "    <tr>\n",
       "      <th>Overweight_Level_I</th>\n",
       "      <td>22.826739</td>\n",
       "      <td>28.769607</td>\n",
       "      <td>25.990772</td>\n",
       "    </tr>\n",
       "    <tr>\n",
       "      <th>Overweight_Level_II</th>\n",
       "      <td>25.713513</td>\n",
       "      <td>30.362877</td>\n",
       "      <td>28.215232</td>\n",
       "    </tr>\n",
       "    <tr>\n",
       "      <th>Obesity_Type_I</th>\n",
       "      <td>29.911958</td>\n",
       "      <td>35.171095</td>\n",
       "      <td>32.255636</td>\n",
       "    </tr>\n",
       "    <tr>\n",
       "      <th>Obesity_Type_II</th>\n",
       "      <td>34.048509</td>\n",
       "      <td>39.786652</td>\n",
       "      <td>36.723424</td>\n",
       "    </tr>\n",
       "    <tr>\n",
       "      <th>Obesity_Type_III</th>\n",
       "      <td>36.774400</td>\n",
       "      <td>50.811753</td>\n",
       "      <td>42.273746</td>\n",
       "    </tr>\n",
       "  </tbody>\n",
       "</table>\n",
       "</div>"
      ],
      "text/plain": [
       "                           min        max       mean\n",
       "NObeyesdad                                          \n",
       "Insufficient_Weight  12.998685  19.082206  17.404245\n",
       "Normal_Weight        18.491124  24.913495  22.014147\n",
       "Overweight_Level_I   22.826739  28.769607  25.990772\n",
       "Overweight_Level_II  25.713513  30.362877  28.215232\n",
       "Obesity_Type_I       29.911958  35.171095  32.255636\n",
       "Obesity_Type_II      34.048509  39.786652  36.723424\n",
       "Obesity_Type_III     36.774400  50.811753  42.273746"
      ]
     },
     "execution_count": 47,
     "metadata": {},
     "output_type": "execute_result"
    }
   ],
   "source": [
    "# showing the results\n",
    "imc_range"
   ]
  },
  {
   "cell_type": "code",
   "execution_count": 134,
   "metadata": {},
   "outputs": [],
   "source": [
    "# creating the new frame\n",
    "results    = pd.concat([pd.DataFrame(rf_grid.predict(X_test), columns=['IMC']),\n",
    "                        pd.DataFrame(label_encoder(GS_fore.predict(X_test),'inverse'), columns=['class_NObeyesdad']) ,\n",
    "                        pd.DataFrame(label_encoder(y_test,'inverse'), columns=['NObeyesdad'])],\n",
    "                        axis=1)\n",
    "\n",
    "# matching IMC with their corresponding NObeyesdad\n",
    "results['regr_NObeyesdad'] = results['IMC'].apply(lambda x: range_imc(x,imc_range['max']))"
   ]
  },
  {
   "cell_type": "code",
   "execution_count": 135,
   "metadata": {},
   "outputs": [],
   "source": [
    "# creating a column per each model that calculates if the prediction is false\n",
    "results['regr_false'] = (results['regr_NObeyesdad'] != results['NObeyesdad'])\n",
    "results['class_false'] = (results['class_NObeyesdad'] != results['NObeyesdad'])"
   ]
  },
  {
   "cell_type": "code",
   "execution_count": 137,
   "metadata": {},
   "outputs": [
    {
     "name": "stdout",
     "output_type": "stream",
     "text": [
      "Accuracy of regression: 0.68\n",
      "Accuracy of clasification: 0.88\n"
     ]
    }
   ],
   "source": [
    "# cheking the accuracy of each model \n",
    "accuracy_regr = metrics.accuracy_score(results['regr_NObeyesdad'], results['NObeyesdad'])\n",
    "accuracy_class = metrics.accuracy_score(results['class_NObeyesdad'], results['NObeyesdad'])\n",
    "\n",
    "print('Accuracy of regression: {:.2f}'.format(accuracy_regr))\n",
    "print('Accuracy of clasification: {:.2f}'.format(accuracy_class))"
   ]
  },
  {
   "cell_type": "code",
   "execution_count": 138,
   "metadata": {},
   "outputs": [
    {
     "data": {
      "text/html": [
       "<div>\n",
       "<style scoped>\n",
       "    .dataframe tbody tr th:only-of-type {\n",
       "        vertical-align: middle;\n",
       "    }\n",
       "\n",
       "    .dataframe tbody tr th {\n",
       "        vertical-align: top;\n",
       "    }\n",
       "\n",
       "    .dataframe thead th {\n",
       "        text-align: right;\n",
       "    }\n",
       "</style>\n",
       "<table border=\"1\" class=\"dataframe\">\n",
       "  <thead>\n",
       "    <tr style=\"text-align: right;\">\n",
       "      <th></th>\n",
       "      <th>IMC</th>\n",
       "      <th>class_NObeyesdad</th>\n",
       "      <th>NObeyesdad</th>\n",
       "      <th>regr_NObeyesdad</th>\n",
       "      <th>regr_false</th>\n",
       "      <th>class_false</th>\n",
       "    </tr>\n",
       "  </thead>\n",
       "  <tbody>\n",
       "    <tr>\n",
       "      <th>0</th>\n",
       "      <td>21.952320</td>\n",
       "      <td>Insufficient_Weight</td>\n",
       "      <td>Insufficient_Weight</td>\n",
       "      <td>Normal_Weight</td>\n",
       "      <td>True</td>\n",
       "      <td>False</td>\n",
       "    </tr>\n",
       "    <tr>\n",
       "      <th>1</th>\n",
       "      <td>41.816010</td>\n",
       "      <td>Obesity_Type_III</td>\n",
       "      <td>Obesity_Type_III</td>\n",
       "      <td>Obesity_Type_III</td>\n",
       "      <td>False</td>\n",
       "      <td>False</td>\n",
       "    </tr>\n",
       "    <tr>\n",
       "      <th>2</th>\n",
       "      <td>18.727982</td>\n",
       "      <td>Insufficient_Weight</td>\n",
       "      <td>Insufficient_Weight</td>\n",
       "      <td>Insufficient_Weight</td>\n",
       "      <td>False</td>\n",
       "      <td>False</td>\n",
       "    </tr>\n",
       "    <tr>\n",
       "      <th>3</th>\n",
       "      <td>18.320343</td>\n",
       "      <td>Insufficient_Weight</td>\n",
       "      <td>Insufficient_Weight</td>\n",
       "      <td>Insufficient_Weight</td>\n",
       "      <td>False</td>\n",
       "      <td>False</td>\n",
       "    </tr>\n",
       "    <tr>\n",
       "      <th>4</th>\n",
       "      <td>25.140791</td>\n",
       "      <td>Normal_Weight</td>\n",
       "      <td>Normal_Weight</td>\n",
       "      <td>Overweight_Level_I</td>\n",
       "      <td>True</td>\n",
       "      <td>False</td>\n",
       "    </tr>\n",
       "    <tr>\n",
       "      <th>...</th>\n",
       "      <td>...</td>\n",
       "      <td>...</td>\n",
       "      <td>...</td>\n",
       "      <td>...</td>\n",
       "      <td>...</td>\n",
       "      <td>...</td>\n",
       "    </tr>\n",
       "    <tr>\n",
       "      <th>207</th>\n",
       "      <td>26.188955</td>\n",
       "      <td>Overweight_Level_I</td>\n",
       "      <td>Overweight_Level_I</td>\n",
       "      <td>Overweight_Level_I</td>\n",
       "      <td>False</td>\n",
       "      <td>False</td>\n",
       "    </tr>\n",
       "    <tr>\n",
       "      <th>208</th>\n",
       "      <td>26.776839</td>\n",
       "      <td>Obesity_Type_I</td>\n",
       "      <td>Obesity_Type_I</td>\n",
       "      <td>Overweight_Level_I</td>\n",
       "      <td>True</td>\n",
       "      <td>False</td>\n",
       "    </tr>\n",
       "    <tr>\n",
       "      <th>209</th>\n",
       "      <td>45.915618</td>\n",
       "      <td>Obesity_Type_III</td>\n",
       "      <td>Obesity_Type_III</td>\n",
       "      <td>Obesity_Type_III</td>\n",
       "      <td>False</td>\n",
       "      <td>False</td>\n",
       "    </tr>\n",
       "    <tr>\n",
       "      <th>210</th>\n",
       "      <td>25.276733</td>\n",
       "      <td>Overweight_Level_I</td>\n",
       "      <td>Overweight_Level_I</td>\n",
       "      <td>Overweight_Level_I</td>\n",
       "      <td>False</td>\n",
       "      <td>False</td>\n",
       "    </tr>\n",
       "    <tr>\n",
       "      <th>211</th>\n",
       "      <td>31.277966</td>\n",
       "      <td>Obesity_Type_I</td>\n",
       "      <td>Obesity_Type_I</td>\n",
       "      <td>Obesity_Type_I</td>\n",
       "      <td>False</td>\n",
       "      <td>False</td>\n",
       "    </tr>\n",
       "  </tbody>\n",
       "</table>\n",
       "<p>212 rows × 6 columns</p>\n",
       "</div>"
      ],
      "text/plain": [
       "           IMC     class_NObeyesdad           NObeyesdad      regr_NObeyesdad  \\\n",
       "0    21.952320  Insufficient_Weight  Insufficient_Weight        Normal_Weight   \n",
       "1    41.816010     Obesity_Type_III     Obesity_Type_III     Obesity_Type_III   \n",
       "2    18.727982  Insufficient_Weight  Insufficient_Weight  Insufficient_Weight   \n",
       "3    18.320343  Insufficient_Weight  Insufficient_Weight  Insufficient_Weight   \n",
       "4    25.140791        Normal_Weight        Normal_Weight   Overweight_Level_I   \n",
       "..         ...                  ...                  ...                  ...   \n",
       "207  26.188955   Overweight_Level_I   Overweight_Level_I   Overweight_Level_I   \n",
       "208  26.776839       Obesity_Type_I       Obesity_Type_I   Overweight_Level_I   \n",
       "209  45.915618     Obesity_Type_III     Obesity_Type_III     Obesity_Type_III   \n",
       "210  25.276733   Overweight_Level_I   Overweight_Level_I   Overweight_Level_I   \n",
       "211  31.277966       Obesity_Type_I       Obesity_Type_I       Obesity_Type_I   \n",
       "\n",
       "     regr_false  class_false  \n",
       "0          True        False  \n",
       "1         False        False  \n",
       "2         False        False  \n",
       "3         False        False  \n",
       "4          True        False  \n",
       "..          ...          ...  \n",
       "207       False        False  \n",
       "208        True        False  \n",
       "209       False        False  \n",
       "210       False        False  \n",
       "211       False        False  \n",
       "\n",
       "[212 rows x 6 columns]"
      ]
     },
     "execution_count": 138,
     "metadata": {},
     "output_type": "execute_result"
    }
   ],
   "source": [
    "results"
   ]
  },
  {
   "cell_type": "code",
   "execution_count": 144,
   "metadata": {},
   "outputs": [],
   "source": [
    "# creting a dataframe with the sum of false prediction per class\n",
    "class_false = results.drop(columns=['IMC','class_NObeyesdad','regr_NObeyesdad']).groupby(['NObeyesdad']).sum()"
   ]
  },
  {
   "cell_type": "code",
   "execution_count": 155,
   "metadata": {},
   "outputs": [
    {
     "data": {
      "image/png": "[encoded data removed]",
      "text/plain": [
       "<Figure size 1440x1440 with 2 Axes>"
      ]
     },
     "metadata": {},
     "output_type": "display_data"
    }
   ],
   "source": [
    "# graphing the missclasified samples for each model\n",
    "\n",
    "plt.figure(figsize=(20, 20))\n",
    "\n",
    "# Logistic Regression\n",
    "plt.subplot(221)\n",
    "\n",
    "plt.bar(height=class_false['regr_false'], x=class_false.index, color='red')\n",
    "plt.ylabel('Misclassified Samples', fontsize=16)\n",
    "plt.xticks(rotation=-30, fontsize=17)\n",
    "pred_lr_ms_sum = class_false['regr_false'].sum().astype(int)\n",
    "plt.title(f'Regression: {pred_lr_ms_sum}', fontsize=17)\n",
    "\n",
    "# Decision Tree\n",
    "plt.subplot(222)\n",
    "\n",
    "plt.bar(height = class_false['class_false'], x=class_false.index, color='red')\n",
    "pred_dt_ms_sum = class_false['class_false'].sum().astype(int)\n",
    "plt.xticks(rotation=-30, fontsize=17)\n",
    "plt.title(f'Classification: {pred_dt_ms_sum}', fontsize=17)\n",
    "\n",
    "plt.show()"
   ]
  },
  {
   "cell_type": "code",
   "execution_count": 44,
   "metadata": {},
   "outputs": [
    {
     "ename": "NameError",
     "evalue": "name 'my_inspector' is not defined",
     "output_type": "error",
     "traceback": [
      "\u001b[1;31m---------------------------------------------------------------------------\u001b[0m",
      "\u001b[1;31mNameError\u001b[0m                                 Traceback (most recent call last)",
      "\u001b[1;32m<ipython-input-44-8e42306beace>\u001b[0m in \u001b[0;36m<module>\u001b[1;34m\u001b[0m\n\u001b[0;32m     40\u001b[0m \u001b[1;33m\u001b[0m\u001b[0m\n\u001b[0;32m     41\u001b[0m \u001b[1;33m\u001b[0m\u001b[0m\n\u001b[1;32m---> 42\u001b[1;33m \u001b[0mprint\u001b[0m\u001b[1;33m(\u001b[0m\u001b[0mmy_inspector\u001b[0m\u001b[1;33m(\u001b[0m\u001b[0mlb\u001b[0m\u001b[1;33m)\u001b[0m\u001b[1;33m)\u001b[0m\u001b[1;33m\u001b[0m\u001b[1;33m\u001b[0m\u001b[0m\n\u001b[0m",
      "\u001b[1;31mNameError\u001b[0m: name 'my_inspector' is not defined"
     ]
    }
   ],
   "source": [
    "# check_is_fitted(lb, 'Yes', 'The tfidf vector is not fitted')\n",
    "\n",
    "# try:\n",
    "#     check_is_fitted(vectorizer, '_tfidf', 'The tfidf vector is not fitted')\n",
    "# except NotFittedError:\n",
    "#     print('asd')\n",
    "\n",
    "\n",
    "\n",
    "# def model_fitted(model):\n",
    "#     return 0 < len( [k for k,v in inspect.getmembers(model) if k.endswith('_') and not k.startswith('__')] )\n",
    "\n",
    "# def label_encoder(objective,process):\n",
    "\n",
    "#     try:\n",
    "#       lbl_enc\n",
    "#     except NameError:\n",
    "#       lbl_enc = LabelEncoder()\n",
    "    \n",
    "#     if model_fitted(lbl_enc)==0:\n",
    "        \n",
    "#         lbl_enc.fit(objective)\n",
    "    \n",
    "#         result = 'Model Has Been Fitted'\n",
    "    \n",
    "#     else:\n",
    "        \n",
    "#         if process=='transform':\n",
    "        \n",
    "#             result = lbl_enc.transform(objective)\n",
    "        \n",
    "#         elif process=='inverse':\n",
    "            \n",
    "#             result = lbl_enc.inverse_transform(objective)\n",
    "#         else:\n",
    "            \n",
    "#             result = 'Put a valid value for process'\n",
    "    \n",
    "#     return result\n",
    "\n",
    "\n",
    "print(my_inspector(lb)) "
   ]
  }
 ],
 "metadata": {
  "kernelspec": {
   "display_name": "Python 3",
   "language": "python",
   "name": "python3"
  },
  "language_info": {
   "codemirror_mode": {
    "name": "ipython",
    "version": 3
   },
   "file_extension": ".py",
   "mimetype": "text/x-python",
   "name": "python",
   "nbconvert_exporter": "python",
   "pygments_lexer": "ipython3",
   "version": "3.7.6"
  }
 },
 "nbformat": 4,
 "nbformat_minor": 4
}
